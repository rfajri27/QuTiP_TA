{
 "cells": [
  {
   "cell_type": "code",
   "execution_count": 1,
   "id": "0a1fcb9f",
   "metadata": {},
   "outputs": [],
   "source": [
    "import numpy as np\n",
    "from qutip import *\n",
    "import matplotlib.pyplot as plt\n",
    "import matplotlib as mpl\n",
    "from jc_model import *\n",
    "%matplotlib inline"
   ]
  },
  {
   "cell_type": "code",
   "execution_count": 2,
   "id": "3eb1a61a",
   "metadata": {},
   "outputs": [],
   "source": [
    "wa = 1.0*2*np.pi # frekuensi eksitasi atom\n",
    "wc = wa\n",
    "N = 15 \n",
    "use_rwa = False\n",
    "g = 0.05*wa\n",
    "kappa = 0.005\n",
    "gamma = 0.0\n",
    "n_th = 0.0\n",
    "t_list = np.linspace(0,25,101)\n",
    "\n",
    "#oprator\n",
    "a = tensor(destroy(N), qeye(2))  #operator a\n",
    "sm = tensor(qeye(N), destroy(2)) #operator sigma-minus\n",
    "sz = tensor(qeye(N), sigmax()) # Operator sigma_z\n",
    "\n",
    "\n",
    "# Keadaan awal\n",
    "psi_0 = tensor(basis(N,0), basis(2,1)) # keadaan eksitasi\n",
    "#psi_0 = tensor(basis(N,0), basis(2,0)) # keadaan dasar"
   ]
  },
  {
   "cell_type": "code",
   "execution_count": 3,
   "id": "0bc480ee",
   "metadata": {},
   "outputs": [],
   "source": [
    "H = Hamiltonian(omega_a=wa, omega_m=wc, g=g, n=N, a=a, sm=sm, rwa=use_rwa)\n",
    "\n",
    "\n",
    "result = mesolve(H, psi_0, t_list, [], [commutator(sm.dag(),sm)])"
   ]
  },
  {
   "cell_type": "code",
   "execution_count": 4,
   "id": "b45c48a7",
   "metadata": {},
   "outputs": [
    {
     "data": {
      "text/plain": [
       "[<matplotlib.lines.Line2D at 0x7f6893d0e460>]"
      ]
     },
     "execution_count": 4,
     "metadata": {},
     "output_type": "execute_result"
    },
    {
     "data": {
      "image/png": "[encoded data removed]",
      "text/plain": [
       "<Figure size 432x288 with 1 Axes>"
      ]
     },
     "metadata": {
      "needs_background": "light"
     },
     "output_type": "display_data"
    }
   ],
   "source": [
    "plt.plot(t_list, result.expect[0])"
   ]
  },
  {
   "cell_type": "code",
   "execution_count": 5,
   "id": "38baf15c",
   "metadata": {},
   "outputs": [
    {
     "name": "stdout",
     "output_type": "stream",
     "text": [
      "Help on function mesolve in module qutip.mesolve:\n",
      "\n",
      "mesolve(H, rho0, tlist, c_ops=None, e_ops=None, args=None, options=None, progress_bar=None, _safe_mode=True)\n",
      "    Master equation evolution of a density matrix for a given Hamiltonian and\n",
      "    set of collapse operators, or a Liouvillian.\n",
      "    \n",
      "    Evolve the state vector or density matrix (`rho0`) using a given\n",
      "    Hamiltonian (`H`) and an [optional] set of collapse operators\n",
      "    (`c_ops`), by integrating the set of ordinary differential equations\n",
      "    that define the system. In the absence of collapse operators the system is\n",
      "    evolved according to the unitary evolution of the Hamiltonian.\n",
      "    \n",
      "    The output is either the state vector at arbitrary points in time\n",
      "    (`tlist`), or the expectation values of the supplied operators\n",
      "    (`e_ops`). If e_ops is a callback function, it is invoked for each\n",
      "    time in `tlist` with time and the state as arguments, and the function\n",
      "    does not use any return values.\n",
      "    \n",
      "    If either `H` or the Qobj elements in `c_ops` are superoperators, they\n",
      "    will be treated as direct contributions to the total system Liouvillian.\n",
      "    This allows to solve master equations that are not on standard Lindblad\n",
      "    form by passing a custom Liouvillian in place of either the `H` or `c_ops`\n",
      "    elements.\n",
      "    \n",
      "    **Time-dependent operators**\n",
      "    \n",
      "    For time-dependent problems, `H` and `c_ops` can be callback\n",
      "    functions that takes two arguments, time and `args`, and returns the\n",
      "    Hamiltonian or Liouvillian for the system at that point in time\n",
      "    (*callback format*).\n",
      "    \n",
      "    Alternatively, `H` and `c_ops` can be a specified in a nested-list format\n",
      "    where each element in the list is a list of length 2, containing an\n",
      "    operator (:class:`qutip.qobj`) at the first element and where the\n",
      "    second element is either a string (*list string format*), a callback\n",
      "    function (*list callback format*) that evaluates to the time-dependent\n",
      "    coefficient for the corresponding operator, or a NumPy array (*list\n",
      "    array format*) which specifies the value of the coefficient to the\n",
      "    corresponding operator for each value of t in tlist.\n",
      "    \n",
      "    *Examples*\n",
      "    \n",
      "        H = [[H0, 'sin(w*t)'], [H1, 'sin(2*w*t)']]\n",
      "    \n",
      "        H = [[H0, f0_t], [H1, f1_t]]\n",
      "    \n",
      "        where f0_t and f1_t are python functions with signature f_t(t, args).\n",
      "    \n",
      "        H = [[H0, np.sin(w*tlist)], [H1, np.sin(2*w*tlist)]]\n",
      "    \n",
      "    In the *list string format* and *list callback format*, the string\n",
      "    expression and the callback function must evaluate to a real or complex\n",
      "    number (coefficient for the corresponding operator).\n",
      "    \n",
      "    In all cases of time-dependent operators, `args` is a dictionary of\n",
      "    parameters that is used when evaluating operators. It is passed to the\n",
      "    callback functions as second argument.\n",
      "    \n",
      "    **Additional options**\n",
      "    \n",
      "    Additional options to mesolve can be set via the `options` argument, which\n",
      "    should be an instance of :class:`qutip.solver.Options`. Many ODE\n",
      "    integration options can be set this way, and the `store_states` and\n",
      "    `store_final_state` options can be used to store states even though\n",
      "    expectation values are requested via the `e_ops` argument.\n",
      "    \n",
      "    .. note::\n",
      "    \n",
      "        If an element in the list-specification of the Hamiltonian or\n",
      "        the list of collapse operators are in superoperator form it will be\n",
      "        added to the total Liouvillian of the problem with out further\n",
      "        transformation. This allows for using mesolve for solving master\n",
      "        equations that are not on standard Lindblad form.\n",
      "    \n",
      "    .. note::\n",
      "    \n",
      "        On using callback function: mesolve transforms all :class:`qutip.qobj`\n",
      "        objects to sparse matrices before handing the problem to the integrator\n",
      "        function. In order for your callback function to work correctly, pass\n",
      "        all :class:`qutip.qobj` objects that are used in constructing the\n",
      "        Hamiltonian via args. mesolve will check for :class:`qutip.qobj` in\n",
      "        `args` and handle the conversion to sparse matrices. All other\n",
      "        :class:`qutip.qobj` objects that are not passed via `args` will be\n",
      "        passed on to the integrator in scipy which will raise an NotImplemented\n",
      "        exception.\n",
      "    \n",
      "    Parameters\n",
      "    ----------\n",
      "    \n",
      "    H : :class:`qutip.Qobj`\n",
      "        System Hamiltonian, or a callback function for time-dependent\n",
      "        Hamiltonians, or alternatively a system Liouvillian.\n",
      "    \n",
      "    rho0 : :class:`qutip.Qobj`\n",
      "        initial density matrix or state vector (ket).\n",
      "    \n",
      "    tlist : *list* / *array*\n",
      "        list of times for :math:`t`.\n",
      "    \n",
      "    c_ops : None / list of :class:`qutip.Qobj`\n",
      "        single collapse operator, or list of collapse operators, or a list\n",
      "        of Liouvillian superoperators.\n",
      "    \n",
      "    e_ops : None / list of :class:`qutip.Qobj` / callback function single\n",
      "        single operator or list of operators for which to evaluate\n",
      "        expectation values.\n",
      "    \n",
      "    args : None / *dictionary*\n",
      "        dictionary of parameters for time-dependent Hamiltonians and\n",
      "        collapse operators.\n",
      "    \n",
      "    options : None / :class:`qutip.Options`\n",
      "        with options for the solver.\n",
      "    \n",
      "    progress_bar : None / BaseProgressBar\n",
      "        Optional instance of BaseProgressBar, or a subclass thereof, for\n",
      "        showing the progress of the simulation.\n",
      "    \n",
      "    Returns\n",
      "    -------\n",
      "    result: :class:`qutip.Result`\n",
      "    \n",
      "        An instance of the class :class:`qutip.Result`, which contains\n",
      "        either an *array* `result.expect` of expectation values for the times\n",
      "        specified by `tlist`, or an *array* `result.states` of state vectors or\n",
      "        density matrices corresponding to the times in `tlist` [if `e_ops` is\n",
      "        an empty list], or nothing if a callback function was given in place of\n",
      "        operators for which to calculate the expectation values.\n",
      "\n"
     ]
    }
   ],
   "source": [
    "help(mesolve)"
   ]
  },
  {
   "cell_type": "code",
   "execution_count": 6,
   "id": "62eab49a",
   "metadata": {},
   "outputs": [],
   "source": [
    "sz = commutator(sm.dag(), sm)\n",
    "\n",
    "szz = tensor(qeye(N), sigmax())"
   ]
  },
  {
   "cell_type": "code",
   "execution_count": 7,
   "id": "b42e20b1",
   "metadata": {},
   "outputs": [
    {
     "data": {
      "text/plain": [
       "False"
      ]
     },
     "execution_count": 7,
     "metadata": {},
     "output_type": "execute_result"
    }
   ],
   "source": [
    "sz == szz"
   ]
  },
  {
   "cell_type": "code",
   "execution_count": 8,
   "id": "c89b9356",
   "metadata": {},
   "outputs": [
    {
     "data": {
      "text/latex": [
       "Quantum object: dims = [[15, 2], [15, 2]], shape = (30, 30), type = oper, isherm = False\\begin{equation*}\\left(\\begin{array}{*{11}c}0.0 & 1.0 & 0.0 & 0.0 & 0.0 & \\cdots & 0.0 & 0.0 & 0.0 & 0.0 & 0.0\\\\0.0 & 0.0 & 0.0 & 0.0 & 0.0 & \\cdots & 0.0 & 0.0 & 0.0 & 0.0 & 0.0\\\\0.0 & 0.0 & 0.0 & 1.0 & 0.0 & \\cdots & 0.0 & 0.0 & 0.0 & 0.0 & 0.0\\\\0.0 & 0.0 & 0.0 & 0.0 & 0.0 & \\cdots & 0.0 & 0.0 & 0.0 & 0.0 & 0.0\\\\0.0 & 0.0 & 0.0 & 0.0 & 0.0 & \\cdots & 0.0 & 0.0 & 0.0 & 0.0 & 0.0\\\\\\vdots & \\vdots & \\vdots & \\vdots & \\vdots & \\ddots & \\vdots & \\vdots & \\vdots & \\vdots & \\vdots\\\\0.0 & 0.0 & 0.0 & 0.0 & 0.0 & \\cdots & 0.0 & 0.0 & 0.0 & 0.0 & 0.0\\\\0.0 & 0.0 & 0.0 & 0.0 & 0.0 & \\cdots & 0.0 & 0.0 & 1.0 & 0.0 & 0.0\\\\0.0 & 0.0 & 0.0 & 0.0 & 0.0 & \\cdots & 0.0 & 0.0 & 0.0 & 0.0 & 0.0\\\\0.0 & 0.0 & 0.0 & 0.0 & 0.0 & \\cdots & 0.0 & 0.0 & 0.0 & 0.0 & 1.0\\\\0.0 & 0.0 & 0.0 & 0.0 & 0.0 & \\cdots & 0.0 & 0.0 & 0.0 & 0.0 & 0.0\\\\\\end{array}\\right)\\end{equation*}"
      ],
      "text/plain": [
       "Quantum object: dims = [[15, 2], [15, 2]], shape = (30, 30), type = oper, isherm = False\n",
       "Qobj data =\n",
       "[[0. 1. 0. 0. 0. 0. 0. 0. 0. 0. 0. 0. 0. 0. 0. 0. 0. 0. 0. 0. 0. 0. 0. 0.\n",
       "  0. 0. 0. 0. 0. 0.]\n",
       " [0. 0. 0. 0. 0. 0. 0. 0. 0. 0. 0. 0. 0. 0. 0. 0. 0. 0. 0. 0. 0. 0. 0. 0.\n",
       "  0. 0. 0. 0. 0. 0.]\n",
       " [0. 0. 0. 1. 0. 0. 0. 0. 0. 0. 0. 0. 0. 0. 0. 0. 0. 0. 0. 0. 0. 0. 0. 0.\n",
       "  0. 0. 0. 0. 0. 0.]\n",
       " [0. 0. 0. 0. 0. 0. 0. 0. 0. 0. 0. 0. 0. 0. 0. 0. 0. 0. 0. 0. 0. 0. 0. 0.\n",
       "  0. 0. 0. 0. 0. 0.]\n",
       " [0. 0. 0. 0. 0. 1. 0. 0. 0. 0. 0. 0. 0. 0. 0. 0. 0. 0. 0. 0. 0. 0. 0. 0.\n",
       "  0. 0. 0. 0. 0. 0.]\n",
       " [0. 0. 0. 0. 0. 0. 0. 0. 0. 0. 0. 0. 0. 0. 0. 0. 0. 0. 0. 0. 0. 0. 0. 0.\n",
       "  0. 0. 0. 0. 0. 0.]\n",
       " [0. 0. 0. 0. 0. 0. 0. 1. 0. 0. 0. 0. 0. 0. 0. 0. 0. 0. 0. 0. 0. 0. 0. 0.\n",
       "  0. 0. 0. 0. 0. 0.]\n",
       " [0. 0. 0. 0. 0. 0. 0. 0. 0. 0. 0. 0. 0. 0. 0. 0. 0. 0. 0. 0. 0. 0. 0. 0.\n",
       "  0. 0. 0. 0. 0. 0.]\n",
       " [0. 0. 0. 0. 0. 0. 0. 0. 0. 1. 0. 0. 0. 0. 0. 0. 0. 0. 0. 0. 0. 0. 0. 0.\n",
       "  0. 0. 0. 0. 0. 0.]\n",
       " [0. 0. 0. 0. 0. 0. 0. 0. 0. 0. 0. 0. 0. 0. 0. 0. 0. 0. 0. 0. 0. 0. 0. 0.\n",
       "  0. 0. 0. 0. 0. 0.]\n",
       " [0. 0. 0. 0. 0. 0. 0. 0. 0. 0. 0. 1. 0. 0. 0. 0. 0. 0. 0. 0. 0. 0. 0. 0.\n",
       "  0. 0. 0. 0. 0. 0.]\n",
       " [0. 0. 0. 0. 0. 0. 0. 0. 0. 0. 0. 0. 0. 0. 0. 0. 0. 0. 0. 0. 0. 0. 0. 0.\n",
       "  0. 0. 0. 0. 0. 0.]\n",
       " [0. 0. 0. 0. 0. 0. 0. 0. 0. 0. 0. 0. 0. 1. 0. 0. 0. 0. 0. 0. 0. 0. 0. 0.\n",
       "  0. 0. 0. 0. 0. 0.]\n",
       " [0. 0. 0. 0. 0. 0. 0. 0. 0. 0. 0. 0. 0. 0. 0. 0. 0. 0. 0. 0. 0. 0. 0. 0.\n",
       "  0. 0. 0. 0. 0. 0.]\n",
       " [0. 0. 0. 0. 0. 0. 0. 0. 0. 0. 0. 0. 0. 0. 0. 1. 0. 0. 0. 0. 0. 0. 0. 0.\n",
       "  0. 0. 0. 0. 0. 0.]\n",
       " [0. 0. 0. 0. 0. 0. 0. 0. 0. 0. 0. 0. 0. 0. 0. 0. 0. 0. 0. 0. 0. 0. 0. 0.\n",
       "  0. 0. 0. 0. 0. 0.]\n",
       " [0. 0. 0. 0. 0. 0. 0. 0. 0. 0. 0. 0. 0. 0. 0. 0. 0. 1. 0. 0. 0. 0. 0. 0.\n",
       "  0. 0. 0. 0. 0. 0.]\n",
       " [0. 0. 0. 0. 0. 0. 0. 0. 0. 0. 0. 0. 0. 0. 0. 0. 0. 0. 0. 0. 0. 0. 0. 0.\n",
       "  0. 0. 0. 0. 0. 0.]\n",
       " [0. 0. 0. 0. 0. 0. 0. 0. 0. 0. 0. 0. 0. 0. 0. 0. 0. 0. 0. 1. 0. 0. 0. 0.\n",
       "  0. 0. 0. 0. 0. 0.]\n",
       " [0. 0. 0. 0. 0. 0. 0. 0. 0. 0. 0. 0. 0. 0. 0. 0. 0. 0. 0. 0. 0. 0. 0. 0.\n",
       "  0. 0. 0. 0. 0. 0.]\n",
       " [0. 0. 0. 0. 0. 0. 0. 0. 0. 0. 0. 0. 0. 0. 0. 0. 0. 0. 0. 0. 0. 1. 0. 0.\n",
       "  0. 0. 0. 0. 0. 0.]\n",
       " [0. 0. 0. 0. 0. 0. 0. 0. 0. 0. 0. 0. 0. 0. 0. 0. 0. 0. 0. 0. 0. 0. 0. 0.\n",
       "  0. 0. 0. 0. 0. 0.]\n",
       " [0. 0. 0. 0. 0. 0. 0. 0. 0. 0. 0. 0. 0. 0. 0. 0. 0. 0. 0. 0. 0. 0. 0. 1.\n",
       "  0. 0. 0. 0. 0. 0.]\n",
       " [0. 0. 0. 0. 0. 0. 0. 0. 0. 0. 0. 0. 0. 0. 0. 0. 0. 0. 0. 0. 0. 0. 0. 0.\n",
       "  0. 0. 0. 0. 0. 0.]\n",
       " [0. 0. 0. 0. 0. 0. 0. 0. 0. 0. 0. 0. 0. 0. 0. 0. 0. 0. 0. 0. 0. 0. 0. 0.\n",
       "  0. 1. 0. 0. 0. 0.]\n",
       " [0. 0. 0. 0. 0. 0. 0. 0. 0. 0. 0. 0. 0. 0. 0. 0. 0. 0. 0. 0. 0. 0. 0. 0.\n",
       "  0. 0. 0. 0. 0. 0.]\n",
       " [0. 0. 0. 0. 0. 0. 0. 0. 0. 0. 0. 0. 0. 0. 0. 0. 0. 0. 0. 0. 0. 0. 0. 0.\n",
       "  0. 0. 0. 1. 0. 0.]\n",
       " [0. 0. 0. 0. 0. 0. 0. 0. 0. 0. 0. 0. 0. 0. 0. 0. 0. 0. 0. 0. 0. 0. 0. 0.\n",
       "  0. 0. 0. 0. 0. 0.]\n",
       " [0. 0. 0. 0. 0. 0. 0. 0. 0. 0. 0. 0. 0. 0. 0. 0. 0. 0. 0. 0. 0. 0. 0. 0.\n",
       "  0. 0. 0. 0. 0. 1.]\n",
       " [0. 0. 0. 0. 0. 0. 0. 0. 0. 0. 0. 0. 0. 0. 0. 0. 0. 0. 0. 0. 0. 0. 0. 0.\n",
       "  0. 0. 0. 0. 0. 0.]]"
      ]
     },
     "execution_count": 8,
     "metadata": {},
     "output_type": "execute_result"
    }
   ],
   "source": [
    "sm"
   ]
  },
  {
   "cell_type": "code",
   "execution_count": 9,
   "id": "d24735a5",
   "metadata": {},
   "outputs": [
    {
     "data": {
      "text/latex": [
       "Quantum object: dims = [[2], [2]], shape = (2, 2), type = oper, isherm = False\\begin{equation*}\\left(\\begin{array}{*{11}c}0.0 & 0.0\\\\1.0 & 0.0\\\\\\end{array}\\right)\\end{equation*}"
      ],
      "text/plain": [
       "Quantum object: dims = [[2], [2]], shape = (2, 2), type = oper, isherm = False\n",
       "Qobj data =\n",
       "[[0. 0.]\n",
       " [1. 0.]]"
      ]
     },
     "execution_count": 9,
     "metadata": {},
     "output_type": "execute_result"
    }
   ],
   "source": [
    "create(2)"
   ]
  },
  {
   "cell_type": "code",
   "execution_count": null,
   "id": "0a8ccbdb",
   "metadata": {},
   "outputs": [],
   "source": []
  },
  {
   "cell_type": "code",
   "execution_count": null,
   "id": "d239e69f",
   "metadata": {},
   "outputs": [],
   "source": []
  },
  {
   "cell_type": "code",
   "execution_count": null,
   "id": "594d6c59",
   "metadata": {},
   "outputs": [],
   "source": []
  },
  {
   "cell_type": "code",
   "execution_count": null,
   "id": "cbda339e",
   "metadata": {},
   "outputs": [],
   "source": []
  },
  {
   "cell_type": "code",
   "execution_count": null,
   "id": "7f0d0974",
   "metadata": {},
   "outputs": [],
   "source": []
  },
  {
   "cell_type": "code",
   "execution_count": null,
   "id": "8298097b",
   "metadata": {},
   "outputs": [],
   "source": []
  },
  {
   "cell_type": "code",
   "execution_count": null,
   "id": "5749e425",
   "metadata": {},
   "outputs": [],
   "source": []
  },
  {
   "cell_type": "code",
   "execution_count": null,
   "id": "46fdcc52",
   "metadata": {},
   "outputs": [],
   "source": []
  },
  {
   "cell_type": "code",
   "execution_count": null,
   "id": "09924978",
   "metadata": {},
   "outputs": [],
   "source": []
  },
  {
   "cell_type": "code",
   "execution_count": null,
   "id": "f81f8775",
   "metadata": {},
   "outputs": [],
   "source": []
  }
 ],
 "metadata": {
  "kernelspec": {
   "display_name": "Python 3",
   "language": "python",
   "name": "python3"
  },
  "language_info": {
   "codemirror_mode": {
    "name": "ipython",
    "version": 3
   },
   "file_extension": ".py",
   "mimetype": "text/x-python",
   "name": "python",
   "nbconvert_exporter": "python",
   "pygments_lexer": "ipython3",
   "version": "3.9.1"
  }
 },
 "nbformat": 4,
 "nbformat_minor": 5
}
